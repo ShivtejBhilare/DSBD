{
 "cells": [
  {
   "cell_type": "markdown",
   "metadata": {},
   "source": [
    "# Data Wrangling II\n",
    "Create an “Academic performance” dataset of students and perform the following operations using\n",
    "Python.\n",
    "1. Scan all variables for missing values and inconsistencies. If there are missing values and/or\n",
    "inconsistencies, use any of the suitable techniques to deal with them.\n",
    "2. Scan all numeric variables for outliers. If there are outliers, use any of the suitable\n",
    "techniques to deal with them.\n",
    "3. Apply data transformations on at least one of the variables. The purpose of this\n",
    "transformation should be one of the following reasons: to change the scale for better\n",
    "understanding of the variable, to convert a non-linear relation into a linear one, or to\n",
    "decrease the skewness and convert the distribution into a normal distribution.\n",
    "Reason and document your approach properly.\n"
   ]
  },
  {
   "cell_type": "code",
   "execution_count": 1,
   "metadata": {},
   "outputs": [],
   "source": [
    "# ! pip install names\n",
    "# ! pip install faker"
   ]
  },
  {
   "cell_type": "code",
   "execution_count": 2,
   "metadata": {},
   "outputs": [],
   "source": [
    "import pandas as pd \n",
    "import numpy as np\n",
    "import seaborn as sns \n",
    "import matplotlib.pyplot as plt\n",
    "from names import get_full_name\n",
    "from sklearn.impute import SimpleImputer\n",
    "from scipy.stats import zscore \n",
    "from scipy.stats import boxcox"
   ]
  },
  {
   "cell_type": "code",
   "execution_count": 3,
   "metadata": {},
   "outputs": [
    {
     "name": "stdout",
     "output_type": "stream",
     "text": [
      "[  1   2   3   4   5   6   7   8   9  10  11  12  13  14  15  16  17  18\n",
      "  19  20  21  22  23  24  25  26  27  28  29  30  31  32  33  34  35  36\n",
      "  37  38  39  40  41  42  43  44  45  46  47  48  49  50  51  52  53  54\n",
      "  55  56  57  58  59  60  61  62  63  64  65  66  67  68  69  70  71  72\n",
      "  73  74  75  76  77  78  79  80  81  82  83  84  85  86  87  88  89  90\n",
      "  91  92  93  94  95  96  97  98  99 100]\n",
      "[73 36 85 39 38 57 43 78 69 83 56 66 76 87 78 37 82 46 89 68 72 64 62 64\n",
      " 38 68 83 57 36 97 56 91 60 48 90 62 37 55 72 84 95 47 65 86 63 81 57 46\n",
      " 71 90 95 55 73 76 91 37 61 77 97 39 85 57 79 71 41 45 65 65 92 80 77 82\n",
      " 77 48 87 41 71 94 64 66 39 38 69 66 78 94 74 48 70 59 84 51 70 82 58 76\n",
      " 61 85 46 90]\n",
      "[5 8 2 9 8 9 7 5 5 2 2 1 5 3 2 3 5 1 3 2 3 5 2 4 5 1 3 3 6 9 1 8 5 4 4 2 2\n",
      " 3 7 4 2 5 7 1 4 3 7 1 1 3 1 2 1 3 5 1 6 3 8 4 6 7 9 8 9 6 3 9 7 4 9 8 6 3\n",
      " 8 5 6 8 7 4 7 4 5 9 4 7 3 1 5 7 2 6 3 5 4 6 5 3 2 2]\n",
      "['Larry Jones', 'Yvonne Parker', 'Daniel Mclain', 'Steven Shelpman', 'Kerry Steedley', 'Jason Mcleod', 'Wendi Pappas', 'Ronnie Henry', 'Teresa Martinez', 'Elizabeth Eubanks', 'William Donahue', 'Lino Harris', 'Paul West', 'Gustavo Goddard', 'Agnes Fernandez', 'Amanda Jones', 'Jennifer Hisaw', 'Horace Sherman', 'Karin Canela', 'Jim Marugg', 'Adam Hughes', 'Paula Granstrom', 'Karen Schade', 'Robert Willard', 'Shannon Nelson', 'Justin Mejia', 'Armando Jordan', 'Jeremy Camarena', 'Alton Donaldson', 'Jeff Roebuck', 'Michelle Allen', 'Rebecca Miller', 'Barbara Scott', 'Steven Calhoun', 'Steven Brooks', 'Karen Sparks', 'Dorian Givens', 'John Wade', 'Rebecca Hancock', 'Mary Dodd', 'Matthew Berber', 'Robert Chan', 'Brittany Fisher', 'Richard French', 'Noah Bennett', 'Walter Malekan', 'Jeffery Osborn', 'Joe Dungee', 'Esther Moran', 'Carlos Ammons', 'Danny Eastwood', 'Tanya Russell', 'Tara Miranda', 'Naomi Tesh', 'Catherine Wilborn', 'Tamara Trout', 'Raymond Parlato', 'Marion Derossett', 'Ida Conley', 'Frederick Saville', 'Carol Fuentes', 'Bryan Sifre', 'Mike Shipman', 'Vanessa Carlson', 'Margaret Johnson', 'Dana Hernandez', 'Charles Rivera', 'Lee Barker', 'Tom Smith', 'Timothy Thomas', 'Pauline Young', 'Joseph Gustason', 'Willie Dalton', 'Carlos Hamm', 'Jessica Gilmore', 'Florence Gann', 'Maryam Whittaker', 'Vera Tomkins', 'Amanda Greenhoward', 'Bobbi Wyche', 'Sammy Zinner', 'John Strickland', 'Katherine Wright', 'Janette Durk', 'John Cassidy', 'Roger Bradshaw', 'Mamie Hogan', 'Alma Payton', 'Gwyneth Henderson', 'Juan Stepp', 'Lorene Jackson', 'Keith Sanders', 'Sean Rosenberg', 'Sheila Tolman', 'Julie Neal', 'Teresa Watt', 'Brandy Santiago', 'Christine Fain', 'Rachel Towe', 'John Hunt']\n"
     ]
    }
   ],
   "source": [
    "#? Name|Roll NO|Division|Branch\n",
    "totalNumStudent=100\n",
    "rollNo=np.arange(1,totalNumStudent+1)\n",
    "print(rollNo)\n",
    "marks=np.random.randint(35,100,size=totalNumStudent)\n",
    "print(marks)\n",
    "totalHrStudy=np.random.randint(1,10,size=totalNumStudent)\n",
    "print(totalHrStudy)\n",
    "studNames=[get_full_name()for _ in range(totalNumStudent)]\n",
    "print(studNames)"
   ]
  },
  {
   "cell_type": "code",
   "execution_count": 4,
   "metadata": {},
   "outputs": [
    {
     "data": {
      "text/html": [
       "<div>\n",
       "<style scoped>\n",
       "    .dataframe tbody tr th:only-of-type {\n",
       "        vertical-align: middle;\n",
       "    }\n",
       "\n",
       "    .dataframe tbody tr th {\n",
       "        vertical-align: top;\n",
       "    }\n",
       "\n",
       "    .dataframe thead th {\n",
       "        text-align: right;\n",
       "    }\n",
       "</style>\n",
       "<table border=\"1\" class=\"dataframe\">\n",
       "  <thead>\n",
       "    <tr style=\"text-align: right;\">\n",
       "      <th></th>\n",
       "      <th>ROLL_NO</th>\n",
       "      <th>NAME</th>\n",
       "      <th>MARKS</th>\n",
       "      <th>TOTAL_HR_STUDY</th>\n",
       "    </tr>\n",
       "  </thead>\n",
       "  <tbody>\n",
       "    <tr>\n",
       "      <th>0</th>\n",
       "      <td>1</td>\n",
       "      <td>Larry Jones</td>\n",
       "      <td>73</td>\n",
       "      <td>5</td>\n",
       "    </tr>\n",
       "    <tr>\n",
       "      <th>1</th>\n",
       "      <td>2</td>\n",
       "      <td>Yvonne Parker</td>\n",
       "      <td>36</td>\n",
       "      <td>8</td>\n",
       "    </tr>\n",
       "    <tr>\n",
       "      <th>2</th>\n",
       "      <td>3</td>\n",
       "      <td>Daniel Mclain</td>\n",
       "      <td>85</td>\n",
       "      <td>2</td>\n",
       "    </tr>\n",
       "    <tr>\n",
       "      <th>3</th>\n",
       "      <td>4</td>\n",
       "      <td>Steven Shelpman</td>\n",
       "      <td>39</td>\n",
       "      <td>9</td>\n",
       "    </tr>\n",
       "    <tr>\n",
       "      <th>4</th>\n",
       "      <td>5</td>\n",
       "      <td>Kerry Steedley</td>\n",
       "      <td>38</td>\n",
       "      <td>8</td>\n",
       "    </tr>\n",
       "    <tr>\n",
       "      <th>...</th>\n",
       "      <td>...</td>\n",
       "      <td>...</td>\n",
       "      <td>...</td>\n",
       "      <td>...</td>\n",
       "    </tr>\n",
       "    <tr>\n",
       "      <th>95</th>\n",
       "      <td>96</td>\n",
       "      <td>Teresa Watt</td>\n",
       "      <td>76</td>\n",
       "      <td>6</td>\n",
       "    </tr>\n",
       "    <tr>\n",
       "      <th>96</th>\n",
       "      <td>97</td>\n",
       "      <td>Brandy Santiago</td>\n",
       "      <td>61</td>\n",
       "      <td>5</td>\n",
       "    </tr>\n",
       "    <tr>\n",
       "      <th>97</th>\n",
       "      <td>98</td>\n",
       "      <td>Christine Fain</td>\n",
       "      <td>85</td>\n",
       "      <td>3</td>\n",
       "    </tr>\n",
       "    <tr>\n",
       "      <th>98</th>\n",
       "      <td>99</td>\n",
       "      <td>Rachel Towe</td>\n",
       "      <td>46</td>\n",
       "      <td>2</td>\n",
       "    </tr>\n",
       "    <tr>\n",
       "      <th>99</th>\n",
       "      <td>100</td>\n",
       "      <td>John Hunt</td>\n",
       "      <td>90</td>\n",
       "      <td>2</td>\n",
       "    </tr>\n",
       "  </tbody>\n",
       "</table>\n",
       "<p>100 rows × 4 columns</p>\n",
       "</div>"
      ],
      "text/plain": [
       "    ROLL_NO             NAME  MARKS  TOTAL_HR_STUDY\n",
       "0         1      Larry Jones     73               5\n",
       "1         2    Yvonne Parker     36               8\n",
       "2         3    Daniel Mclain     85               2\n",
       "3         4  Steven Shelpman     39               9\n",
       "4         5   Kerry Steedley     38               8\n",
       "..      ...              ...    ...             ...\n",
       "95       96      Teresa Watt     76               6\n",
       "96       97  Brandy Santiago     61               5\n",
       "97       98   Christine Fain     85               3\n",
       "98       99      Rachel Towe     46               2\n",
       "99      100        John Hunt     90               2\n",
       "\n",
       "[100 rows x 4 columns]"
      ]
     },
     "execution_count": 4,
     "metadata": {},
     "output_type": "execute_result"
    }
   ],
   "source": [
    "data={\n",
    "        \"ROLL_NO\":rollNo,\n",
    "        \"NAME\":studNames,\n",
    "        \"MARKS\":marks,\n",
    "        \"TOTAL_HR_STUDY\":totalHrStudy\n",
    "    }\n",
    "df=pd.DataFrame(data)\n",
    "df"
   ]
  },
  {
   "cell_type": "code",
   "execution_count": 5,
   "metadata": {},
   "outputs": [
    {
     "data": {
      "text/plain": [
       "ROLL_NO           0\n",
       "NAME              0\n",
       "MARKS             0\n",
       "TOTAL_HR_STUDY    0\n",
       "dtype: int64"
      ]
     },
     "execution_count": 5,
     "metadata": {},
     "output_type": "execute_result"
    }
   ],
   "source": [
    "df.isna().sum()\n",
    "# np.isnan(df).sum()\n",
    "df.isnull().sum()"
   ]
  },
  {
   "cell_type": "code",
   "execution_count": 6,
   "metadata": {},
   "outputs": [
    {
     "data": {
      "text/html": [
       "<div>\n",
       "<style scoped>\n",
       "    .dataframe tbody tr th:only-of-type {\n",
       "        vertical-align: middle;\n",
       "    }\n",
       "\n",
       "    .dataframe tbody tr th {\n",
       "        vertical-align: top;\n",
       "    }\n",
       "\n",
       "    .dataframe thead th {\n",
       "        text-align: right;\n",
       "    }\n",
       "</style>\n",
       "<table border=\"1\" class=\"dataframe\">\n",
       "  <thead>\n",
       "    <tr style=\"text-align: right;\">\n",
       "      <th></th>\n",
       "      <th>ROLL_NO</th>\n",
       "      <th>MARKS</th>\n",
       "      <th>TOTAL_HR_STUDY</th>\n",
       "    </tr>\n",
       "  </thead>\n",
       "  <tbody>\n",
       "    <tr>\n",
       "      <th>count</th>\n",
       "      <td>100.000000</td>\n",
       "      <td>100.000000</td>\n",
       "      <td>100.000000</td>\n",
       "    </tr>\n",
       "    <tr>\n",
       "      <th>mean</th>\n",
       "      <td>50.500000</td>\n",
       "      <td>67.090000</td>\n",
       "      <td>4.580000</td>\n",
       "    </tr>\n",
       "    <tr>\n",
       "      <th>std</th>\n",
       "      <td>29.011492</td>\n",
       "      <td>17.554587</td>\n",
       "      <td>2.458463</td>\n",
       "    </tr>\n",
       "    <tr>\n",
       "      <th>min</th>\n",
       "      <td>1.000000</td>\n",
       "      <td>36.000000</td>\n",
       "      <td>1.000000</td>\n",
       "    </tr>\n",
       "    <tr>\n",
       "      <th>25%</th>\n",
       "      <td>25.750000</td>\n",
       "      <td>55.750000</td>\n",
       "      <td>3.000000</td>\n",
       "    </tr>\n",
       "    <tr>\n",
       "      <th>50%</th>\n",
       "      <td>50.500000</td>\n",
       "      <td>68.500000</td>\n",
       "      <td>4.000000</td>\n",
       "    </tr>\n",
       "    <tr>\n",
       "      <th>75%</th>\n",
       "      <td>75.250000</td>\n",
       "      <td>82.000000</td>\n",
       "      <td>7.000000</td>\n",
       "    </tr>\n",
       "    <tr>\n",
       "      <th>max</th>\n",
       "      <td>100.000000</td>\n",
       "      <td>97.000000</td>\n",
       "      <td>9.000000</td>\n",
       "    </tr>\n",
       "  </tbody>\n",
       "</table>\n",
       "</div>"
      ],
      "text/plain": [
       "          ROLL_NO       MARKS  TOTAL_HR_STUDY\n",
       "count  100.000000  100.000000      100.000000\n",
       "mean    50.500000   67.090000        4.580000\n",
       "std     29.011492   17.554587        2.458463\n",
       "min      1.000000   36.000000        1.000000\n",
       "25%     25.750000   55.750000        3.000000\n",
       "50%     50.500000   68.500000        4.000000\n",
       "75%     75.250000   82.000000        7.000000\n",
       "max    100.000000   97.000000        9.000000"
      ]
     },
     "execution_count": 6,
     "metadata": {},
     "output_type": "execute_result"
    }
   ],
   "source": [
    "df.describe()"
   ]
  },
  {
   "cell_type": "code",
   "execution_count": 7,
   "metadata": {},
   "outputs": [
    {
     "name": "stdout",
     "output_type": "stream",
     "text": [
      "<class 'pandas.core.frame.DataFrame'>\n",
      "RangeIndex: 100 entries, 0 to 99\n",
      "Data columns (total 4 columns):\n",
      " #   Column          Non-Null Count  Dtype \n",
      "---  ------          --------------  ----- \n",
      " 0   ROLL_NO         100 non-null    int32 \n",
      " 1   NAME            100 non-null    object\n",
      " 2   MARKS           100 non-null    int32 \n",
      " 3   TOTAL_HR_STUDY  100 non-null    int32 \n",
      "dtypes: int32(3), object(1)\n",
      "memory usage: 2.1+ KB\n"
     ]
    }
   ],
   "source": [
    "df.info()"
   ]
  },
  {
   "cell_type": "code",
   "execution_count": 8,
   "metadata": {},
   "outputs": [
    {
     "data": {
      "text/plain": [
       "100"
      ]
     },
     "execution_count": 8,
     "metadata": {},
     "output_type": "execute_result"
    }
   ],
   "source": [
    "df['NAME'].nunique()"
   ]
  },
  {
   "cell_type": "code",
   "execution_count": 9,
   "metadata": {},
   "outputs": [
    {
     "data": {
      "text/plain": [
       "0         Larry Jones\n",
       "1       Yvonne Parker\n",
       "2       Daniel Mclain\n",
       "3     Steven Shelpman\n",
       "4      Kerry Steedley\n",
       "           ...       \n",
       "95        Teresa Watt\n",
       "96    Brandy Santiago\n",
       "97     Christine Fain\n",
       "98        Rachel Towe\n",
       "99          John Hunt\n",
       "Name: NAME, Length: 100, dtype: object"
      ]
     },
     "execution_count": 9,
     "metadata": {},
     "output_type": "execute_result"
    }
   ],
   "source": [
    "df['NAME']"
   ]
  },
  {
   "cell_type": "code",
   "execution_count": 10,
   "metadata": {},
   "outputs": [],
   "source": [
    "imputer=SimpleImputer(strategy='mean')"
   ]
  },
  {
   "cell_type": "code",
   "execution_count": 11,
   "metadata": {},
   "outputs": [],
   "source": [
    "df['MARKS_NO_NAN_IMPUTE']=imputer.fit_transform(df[['MARKS']])"
   ]
  },
  {
   "cell_type": "code",
   "execution_count": 12,
   "metadata": {},
   "outputs": [],
   "source": [
    "df['MARKS_NO_NAN_INTER']=df['MARKS'].interpolate()"
   ]
  },
  {
   "cell_type": "code",
   "execution_count": 13,
   "metadata": {},
   "outputs": [
    {
     "data": {
      "text/plain": [
       "72     0\n",
       "70     0\n",
       "57     0\n",
       "28    36\n",
       "1     36\n",
       "      ..\n",
       "85    94\n",
       "50    95\n",
       "40    95\n",
       "58    97\n",
       "29    97\n",
       "Name: MARKS, Length: 100, dtype: int32"
      ]
     },
     "execution_count": 13,
     "metadata": {},
     "output_type": "execute_result"
    }
   ],
   "source": [
    "\n",
    "df['MARKS'].replace(77,0,inplace=True)\n",
    "df['MARKS'].sort_values()"
   ]
  },
  {
   "cell_type": "code",
   "execution_count": 14,
   "metadata": {},
   "outputs": [],
   "source": [
    "# from faker import Faker\n",
    "# fake=Faker('en_IN')\n",
    "# nameList=[fake.name() for _ in range(100)]"
   ]
  },
  {
   "cell_type": "code",
   "execution_count": 15,
   "metadata": {},
   "outputs": [
    {
     "data": {
      "image/png": "[encoded data removed]",
      "text/plain": [
       "<Figure size 640x480 with 1 Axes>"
      ]
     },
     "metadata": {},
     "output_type": "display_data"
    }
   ],
   "source": [
    "sns.boxplot(data=df['MARKS'])\n",
    "plt.title(\"Boxplot for Marks\")\n",
    "plt.show()"
   ]
  },
  {
   "cell_type": "code",
   "execution_count": 16,
   "metadata": {},
   "outputs": [
    {
     "data": {
      "text/plain": [
       "Text(0.5, 0, 'Marks Obtained')"
      ]
     },
     "execution_count": 16,
     "metadata": {},
     "output_type": "execute_result"
    },
    {
     "data": {
      "image/png": "[encoded data removed]",
      "text/plain": [
       "<Figure size 640x480 with 1 Axes>"
      ]
     },
     "metadata": {},
     "output_type": "display_data"
    }
   ],
   "source": [
    "plt.scatter(df['MARKS'],df['TOTAL_HR_STUDY'])\n",
    "plt.title(\"Marks w.r.t Time of studying\")\n",
    "plt.ylabel(\"Hour of Studying\")\n",
    "plt.xlabel('Marks Obtained')"
   ]
  },
  {
   "cell_type": "code",
   "execution_count": 17,
   "metadata": {},
   "outputs": [
    {
     "data": {
      "text/html": [
       "<div>\n",
       "<style scoped>\n",
       "    .dataframe tbody tr th:only-of-type {\n",
       "        vertical-align: middle;\n",
       "    }\n",
       "\n",
       "    .dataframe tbody tr th {\n",
       "        vertical-align: top;\n",
       "    }\n",
       "\n",
       "    .dataframe thead th {\n",
       "        text-align: right;\n",
       "    }\n",
       "</style>\n",
       "<table border=\"1\" class=\"dataframe\">\n",
       "  <thead>\n",
       "    <tr style=\"text-align: right;\">\n",
       "      <th></th>\n",
       "      <th>ROLL_NO</th>\n",
       "      <th>NAME</th>\n",
       "      <th>MARKS</th>\n",
       "      <th>TOTAL_HR_STUDY</th>\n",
       "      <th>MARKS_NO_NAN_IMPUTE</th>\n",
       "      <th>MARKS_NO_NAN_INTER</th>\n",
       "    </tr>\n",
       "  </thead>\n",
       "  <tbody>\n",
       "    <tr>\n",
       "      <th>57</th>\n",
       "      <td>58</td>\n",
       "      <td>Marion Derossett</td>\n",
       "      <td>0</td>\n",
       "      <td>3</td>\n",
       "      <td>77.0</td>\n",
       "      <td>77</td>\n",
       "    </tr>\n",
       "    <tr>\n",
       "      <th>70</th>\n",
       "      <td>71</td>\n",
       "      <td>Pauline Young</td>\n",
       "      <td>0</td>\n",
       "      <td>9</td>\n",
       "      <td>77.0</td>\n",
       "      <td>77</td>\n",
       "    </tr>\n",
       "    <tr>\n",
       "      <th>72</th>\n",
       "      <td>73</td>\n",
       "      <td>Willie Dalton</td>\n",
       "      <td>0</td>\n",
       "      <td>6</td>\n",
       "      <td>77.0</td>\n",
       "      <td>77</td>\n",
       "    </tr>\n",
       "  </tbody>\n",
       "</table>\n",
       "</div>"
      ],
      "text/plain": [
       "    ROLL_NO              NAME  MARKS  TOTAL_HR_STUDY  MARKS_NO_NAN_IMPUTE  \\\n",
       "57       58  Marion Derossett      0               3                 77.0   \n",
       "70       71     Pauline Young      0               9                 77.0   \n",
       "72       73     Willie Dalton      0               6                 77.0   \n",
       "\n",
       "    MARKS_NO_NAN_INTER  \n",
       "57                  77  \n",
       "70                  77  \n",
       "72                  77  "
      ]
     },
     "execution_count": 17,
     "metadata": {},
     "output_type": "execute_result"
    }
   ],
   "source": [
    "z_scores=np.abs(zscore(df['MARKS']))\n",
    "threshold=3\n",
    "outliers=df[z_scores>threshold]\n",
    "outliers"
   ]
  },
  {
   "cell_type": "code",
   "execution_count": 18,
   "metadata": {},
   "outputs": [],
   "source": [
    "df['MARKS']=np.where(z_scores>threshold,np.nan,df['MARKS'])"
   ]
  },
  {
   "cell_type": "code",
   "execution_count": 19,
   "metadata": {},
   "outputs": [
    {
     "data": {
      "text/plain": [
       "ROLL_NO                0\n",
       "NAME                   0\n",
       "MARKS                  3\n",
       "TOTAL_HR_STUDY         0\n",
       "MARKS_NO_NAN_IMPUTE    0\n",
       "MARKS_NO_NAN_INTER     0\n",
       "dtype: int64"
      ]
     },
     "execution_count": 19,
     "metadata": {},
     "output_type": "execute_result"
    }
   ],
   "source": [
    "df.isna().sum()"
   ]
  },
  {
   "cell_type": "code",
   "execution_count": 20,
   "metadata": {},
   "outputs": [
    {
     "name": "stderr",
     "output_type": "stream",
     "text": [
      "C:\\Users\\shivt\\AppData\\Local\\Temp\\ipykernel_16084\\2200883011.py:1: FutureWarning: DataFrame.interpolate with object dtype is deprecated and will raise in a future version. Call obj.infer_objects(copy=False) before interpolating instead.\n",
      "  df=df.interpolate()\n"
     ]
    },
    {
     "data": {
      "text/plain": [
       "ROLL_NO                0\n",
       "NAME                   0\n",
       "MARKS                  0\n",
       "TOTAL_HR_STUDY         0\n",
       "MARKS_NO_NAN_IMPUTE    0\n",
       "MARKS_NO_NAN_INTER     0\n",
       "dtype: int64"
      ]
     },
     "execution_count": 20,
     "metadata": {},
     "output_type": "execute_result"
    }
   ],
   "source": [
    "df=df.interpolate()\n",
    "df.isna().sum()\n"
   ]
  },
  {
   "cell_type": "code",
   "execution_count": 21,
   "metadata": {},
   "outputs": [],
   "source": [
    "df['MARKS_T'],_=boxcox(df['MARKS'])"
   ]
  },
  {
   "cell_type": "code",
   "execution_count": 22,
   "metadata": {},
   "outputs": [
    {
     "data": {
      "text/html": [
       "<div>\n",
       "<style scoped>\n",
       "    .dataframe tbody tr th:only-of-type {\n",
       "        vertical-align: middle;\n",
       "    }\n",
       "\n",
       "    .dataframe tbody tr th {\n",
       "        vertical-align: top;\n",
       "    }\n",
       "\n",
       "    .dataframe thead th {\n",
       "        text-align: right;\n",
       "    }\n",
       "</style>\n",
       "<table border=\"1\" class=\"dataframe\">\n",
       "  <thead>\n",
       "    <tr style=\"text-align: right;\">\n",
       "      <th></th>\n",
       "      <th>ROLL_NO</th>\n",
       "      <th>NAME</th>\n",
       "      <th>MARKS</th>\n",
       "      <th>TOTAL_HR_STUDY</th>\n",
       "      <th>MARKS_NO_NAN_IMPUTE</th>\n",
       "      <th>MARKS_NO_NAN_INTER</th>\n",
       "      <th>MARKS_T</th>\n",
       "    </tr>\n",
       "  </thead>\n",
       "  <tbody>\n",
       "    <tr>\n",
       "      <th>0</th>\n",
       "      <td>1</td>\n",
       "      <td>Larry Jones</td>\n",
       "      <td>73.0</td>\n",
       "      <td>5</td>\n",
       "      <td>73.0</td>\n",
       "      <td>73</td>\n",
       "      <td>127.733145</td>\n",
       "    </tr>\n",
       "    <tr>\n",
       "      <th>1</th>\n",
       "      <td>2</td>\n",
       "      <td>Yvonne Parker</td>\n",
       "      <td>36.0</td>\n",
       "      <td>8</td>\n",
       "      <td>36.0</td>\n",
       "      <td>36</td>\n",
       "      <td>55.448814</td>\n",
       "    </tr>\n",
       "    <tr>\n",
       "      <th>2</th>\n",
       "      <td>3</td>\n",
       "      <td>Daniel Mclain</td>\n",
       "      <td>85.0</td>\n",
       "      <td>2</td>\n",
       "      <td>85.0</td>\n",
       "      <td>85</td>\n",
       "      <td>152.753192</td>\n",
       "    </tr>\n",
       "    <tr>\n",
       "      <th>3</th>\n",
       "      <td>4</td>\n",
       "      <td>Steven Shelpman</td>\n",
       "      <td>39.0</td>\n",
       "      <td>9</td>\n",
       "      <td>39.0</td>\n",
       "      <td>39</td>\n",
       "      <td>60.967609</td>\n",
       "    </tr>\n",
       "    <tr>\n",
       "      <th>4</th>\n",
       "      <td>5</td>\n",
       "      <td>Kerry Steedley</td>\n",
       "      <td>38.0</td>\n",
       "      <td>8</td>\n",
       "      <td>38.0</td>\n",
       "      <td>38</td>\n",
       "      <td>59.119788</td>\n",
       "    </tr>\n",
       "    <tr>\n",
       "      <th>...</th>\n",
       "      <td>...</td>\n",
       "      <td>...</td>\n",
       "      <td>...</td>\n",
       "      <td>...</td>\n",
       "      <td>...</td>\n",
       "      <td>...</td>\n",
       "      <td>...</td>\n",
       "    </tr>\n",
       "    <tr>\n",
       "      <th>95</th>\n",
       "      <td>96</td>\n",
       "      <td>Teresa Watt</td>\n",
       "      <td>76.0</td>\n",
       "      <td>6</td>\n",
       "      <td>76.0</td>\n",
       "      <td>76</td>\n",
       "      <td>133.927535</td>\n",
       "    </tr>\n",
       "    <tr>\n",
       "      <th>96</th>\n",
       "      <td>97</td>\n",
       "      <td>Brandy Santiago</td>\n",
       "      <td>61.0</td>\n",
       "      <td>5</td>\n",
       "      <td>61.0</td>\n",
       "      <td>61</td>\n",
       "      <td>103.398179</td>\n",
       "    </tr>\n",
       "    <tr>\n",
       "      <th>97</th>\n",
       "      <td>98</td>\n",
       "      <td>Christine Fain</td>\n",
       "      <td>85.0</td>\n",
       "      <td>3</td>\n",
       "      <td>85.0</td>\n",
       "      <td>85</td>\n",
       "      <td>152.753192</td>\n",
       "    </tr>\n",
       "    <tr>\n",
       "      <th>98</th>\n",
       "      <td>99</td>\n",
       "      <td>Rachel Towe</td>\n",
       "      <td>46.0</td>\n",
       "      <td>2</td>\n",
       "      <td>46.0</td>\n",
       "      <td>46</td>\n",
       "      <td>74.117161</td>\n",
       "    </tr>\n",
       "    <tr>\n",
       "      <th>99</th>\n",
       "      <td>100</td>\n",
       "      <td>John Hunt</td>\n",
       "      <td>90.0</td>\n",
       "      <td>2</td>\n",
       "      <td>90.0</td>\n",
       "      <td>90</td>\n",
       "      <td>163.360169</td>\n",
       "    </tr>\n",
       "  </tbody>\n",
       "</table>\n",
       "<p>100 rows × 7 columns</p>\n",
       "</div>"
      ],
      "text/plain": [
       "    ROLL_NO             NAME  MARKS  TOTAL_HR_STUDY  MARKS_NO_NAN_IMPUTE  \\\n",
       "0         1      Larry Jones   73.0               5                 73.0   \n",
       "1         2    Yvonne Parker   36.0               8                 36.0   \n",
       "2         3    Daniel Mclain   85.0               2                 85.0   \n",
       "3         4  Steven Shelpman   39.0               9                 39.0   \n",
       "4         5   Kerry Steedley   38.0               8                 38.0   \n",
       "..      ...              ...    ...             ...                  ...   \n",
       "95       96      Teresa Watt   76.0               6                 76.0   \n",
       "96       97  Brandy Santiago   61.0               5                 61.0   \n",
       "97       98   Christine Fain   85.0               3                 85.0   \n",
       "98       99      Rachel Towe   46.0               2                 46.0   \n",
       "99      100        John Hunt   90.0               2                 90.0   \n",
       "\n",
       "    MARKS_NO_NAN_INTER     MARKS_T  \n",
       "0                   73  127.733145  \n",
       "1                   36   55.448814  \n",
       "2                   85  152.753192  \n",
       "3                   39   60.967609  \n",
       "4                   38   59.119788  \n",
       "..                 ...         ...  \n",
       "95                  76  133.927535  \n",
       "96                  61  103.398179  \n",
       "97                  85  152.753192  \n",
       "98                  46   74.117161  \n",
       "99                  90  163.360169  \n",
       "\n",
       "[100 rows x 7 columns]"
      ]
     },
     "execution_count": 22,
     "metadata": {},
     "output_type": "execute_result"
    }
   ],
   "source": [
    "df"
   ]
  },
  {
   "cell_type": "code",
   "execution_count": 24,
   "metadata": {},
   "outputs": [
    {
     "data": {
      "text/plain": [
       "1      55.448814\n",
       "28     55.448814\n",
       "55     57.280129\n",
       "36     57.280129\n",
       "15     57.280129\n",
       "         ...    \n",
       "85    171.917697\n",
       "50    174.066770\n",
       "40    174.066770\n",
       "58    178.376308\n",
       "29    178.376308\n",
       "Name: MARKS_T, Length: 100, dtype: float64"
      ]
     },
     "execution_count": 24,
     "metadata": {},
     "output_type": "execute_result"
    }
   ],
   "source": [
    "df['MARKS_T'].sort_values()"
   ]
  },
  {
   "cell_type": "code",
   "execution_count": null,
   "metadata": {},
   "outputs": [],
   "source": []
  }
 ],
 "metadata": {
  "kernelspec": {
   "display_name": "Python 3",
   "language": "python",
   "name": "python3"
  },
  "language_info": {
   "codemirror_mode": {
    "name": "ipython",
    "version": 3
   },
   "file_extension": ".py",
   "mimetype": "text/x-python",
   "name": "python",
   "nbconvert_exporter": "python",
   "pygments_lexer": "ipython3",
   "version": "3.11.4"
  }
 },
 "nbformat": 4,
 "nbformat_minor": 2
}
